{
 "cells": [
  {
   "cell_type": "markdown",
   "metadata": {},
   "source": [
    "In this part, we implement queue simply and then discuss the maze problem."
   ]
  },
  {
   "cell_type": "code",
   "execution_count": 1,
   "metadata": {},
   "outputs": [],
   "source": [
    "from builtins import *\n",
    "class QueueUnderflow(ValueError):\n",
    "    pass\n",
    "\n",
    "class SQueue():\n",
    "    def __init__(self,init_len = 8):\n",
    "        self._elems = [0]*8\n",
    "        self._num = 0\n",
    "        self._len = init_len\n",
    "        self._head = 0\n",
    "        \n",
    "    def is_empty():\n",
    "        return self._num == 0\n",
    "    \n",
    "    def peek(self):\n",
    "        if self.is_empty():\n",
    "            raise QueueUnderflow('in peek')\n",
    "        return self._elems[self._head]\n",
    "    \n",
    "    def enqueue(self,elem):\n",
    "        if self._num == self._len:\n",
    "            self._elems = self._elems*2\n",
    "            self._len *=2\n",
    "        self._elems[(self._head+self._num)%self._len] = elem\n",
    "        self._num += 1\n",
    "        \n",
    "    def dequeue(self):\n",
    "        if self.is_empty():\n",
    "            raise QueueUnderflow('in dequeue')\n",
    "        drop = self._head\n",
    "        self._head += 1\n",
    "        self._head %= self._len\n",
    "        self._num -= 1\n",
    "        '''\n",
    "        drop = self._elems[self._head]\n",
    "        self._elems = self._elems[self._head:]\n",
    "        self._num -= self._head\n",
    "        self._len -= self.head\n",
    "        self._head=0\n",
    "        '''\n",
    "        return drop\n",
    "                       "
   ]
  },
  {
   "cell_type": "markdown",
   "metadata": {},
   "source": [
    "Now we consider how to solve a maze in python. The maze is presented as matrix and '0' means the place you can go and '1' the blocks."
   ]
  },
  {
   "cell_type": "code",
   "execution_count": 2,
   "metadata": {},
   "outputs": [],
   "source": [
    "dirs = [(0,1),(0,-1),(1,0),(-1,0)]\n",
    "\n",
    "def mark(maze,pos):\n",
    "    maze[pos[0]][pos[1]]=2\n",
    "def passable(maze,pos):\n",
    "    return maze[pos[0]][pos[1]]==0\n",
    "\n",
    "# Recursive solver\n",
    "def find_path(maze,pos,end):\n",
    "    mark(maze,pos)\n",
    "    if pos == end:\n",
    "        print(pos,end=' ')\n",
    "        return True\n",
    "    for i in range(len(dirs)):\n",
    "        next_pos = (pos[0]+dirs[i][0],pos[1]+dirs[i][1])\n",
    "        if passable(maze,next_pos):\n",
    "            if find_path(maze,next_pos,end):\n",
    "                print(next_pos,end=' ')\n",
    "                return True\n",
    "    return False\n"
   ]
  },
  {
   "cell_type": "markdown",
   "metadata": {},
   "source": [
    "Now we use stack to solve it.(depth first search)"
   ]
  },
  {
   "cell_type": "code",
   "execution_count": 3,
   "metadata": {},
   "outputs": [],
   "source": [
    "def maze_solver(maze,start,end):\n",
    "    if start == end:\n",
    "        print(start)\n",
    "        return \n",
    "    st = SStack()\n",
    "    mark(maze,start)\n",
    "    st.push((start,0))\n",
    "    while not st.is_empty():\n",
    "        pos,nxt = st.pop()\n",
    "        for i in range(nxt,len(dirs)):\n",
    "            next_pos = (pos[0]+dirs[nxt][0],pos[1]+dirs[nxt][1])\n",
    "            if next_pos == end:\n",
    "                print(end,pos,st)\n",
    "                return \n",
    "            if passable(maze,next_pos):\n",
    "                st.push((pos,i+1))\n",
    "                mark(maze,next_pos)\n",
    "                st.push((next_pos,0))\n",
    "                break\n",
    "    print('No path found')"
   ]
  },
  {
   "cell_type": "markdown",
   "metadata": {},
   "source": [
    "Now we try to solve maze using queue.(width first search)"
   ]
  },
  {
   "cell_type": "code",
   "execution_count": 4,
   "metadata": {},
   "outputs": [],
   "source": [
    "def maze_solver_queue(maze,start,end):\n",
    "    if start==end:\n",
    "        print('path finded')\n",
    "        return \n",
    "    qu = SQueue()\n",
    "    mark(maze,start)\n",
    "    qu.enqueue(start)\n",
    "    while not qu.is_empty():\n",
    "        pos = qu.dequeue()\n",
    "        for i in range(len(dirs)):\n",
    "            next_pos = (pos[0]+dirs[i][0],pos[1]+dirs[i][1])\n",
    "            if passable(maze,next_pos):\n",
    "                if next_pos == end:\n",
    "                    print('path finded')\n",
    "                    return \n",
    "                mark(maze,next_pos)\n",
    "                qu.enqueue(next_pos)\n",
    "    print('no path')"
   ]
  }
 ],
 "metadata": {
  "kernelspec": {
   "display_name": "Python 3",
   "language": "python",
   "name": "python3"
  },
  "language_info": {
   "codemirror_mode": {
    "name": "ipython",
    "version": 3
   },
   "file_extension": ".py",
   "mimetype": "text/x-python",
   "name": "python",
   "nbconvert_exporter": "python",
   "pygments_lexer": "ipython3",
   "version": "3.6.2"
  }
 },
 "nbformat": 4,
 "nbformat_minor": 2
}
