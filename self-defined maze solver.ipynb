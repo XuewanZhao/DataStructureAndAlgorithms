{
 "cells": [
  {
   "cell_type": "markdown",
   "metadata": {},
   "source": [
    "I'm trying to create a class for maze."
   ]
  },
  {
   "cell_type": "code",
   "execution_count": 1,
   "metadata": {},
   "outputs": [],
   "source": [
    "class lattice():\n",
    "    def __init__(self,open_ = 0):\n",
    "        self._open = open_\n",
    "        self._head_access = 0\n",
    "        self._tail_access = 0\n",
    "    \n",
    "    def is_open(self):\n",
    "        return not self._open\n",
    "    \n",
    "    def link_head(self):\n",
    "        return self._head_access\n",
    "    \n",
    "    def link_tail(self):\n",
    "        return self._tail_access\n",
    "    \n",
    "    def link_h(self):\n",
    "        self._head_access = 1\n",
    "        self._open = 1\n",
    "        \n",
    "    def link_t(self):\n",
    "        self._tail_access = 1\n",
    "        self._open = 1\n",
    "    \n",
    "    def open_(self):\n",
    "        self._open = 0\n",
    "    \n",
    "    def close(self):\n",
    "        self._open = 1\n",
    "    \n",
    "class Maze():\n",
    "    def __init__(self,scale = (1,1),blocks=[(1,1)]):\n",
    "        self._maze = []\n",
    "        for i in range(scale[0]):\n",
    "            self._maze.append([0]*scale[1])\n",
    "        for i in range(scale[0]):\n",
    "            for j in range(scale[1]):\n",
    "                self._maze[i][j] = lattice()\n",
    "        self._scale = scale\n",
    "        for i in blocks:\n",
    "            x,y = i[0]-1,i[1]-1\n",
    "            self._maze[x][y].close()\n",
    "    \n",
    "    def set_start(self,pos):\n",
    "        self._maze[pos[0]-1][pos[1]-1].link_h()\n",
    "    \n",
    "    def set_end(self,pos):\n",
    "        self._maze[pos[0]-1][pos[1]-1].link_t()\n",
    "        self._maze[pos[0]-1][pos[1]-1].open_()\n",
    "        \n",
    "    def expand(self,cur):\n",
    "        cur = (cur[0]-1,cur[1]-1)\n",
    "        dirs = [(0,1),(0,-1),(1,0),(-1,0)]\n",
    "        for i in dirs:\n",
    "            x,y = cur[0]+i[0],cur[1]+i[1]\n",
    "            print(x,y)\n",
    "            if x in range(0,scale[0]) and y in range(0,scale[1]) and self._maze[x][y].is_open():\n",
    "                if self._maze[cur[0]][cur[1]].link_head():\n",
    "                    self._maze[x][y].link_h()\n",
    "                if self._maze[cur[0]][cur[1]].link_tail():\n",
    "                    self._maze[x][y].link_t()\n",
    "                if self._maze[x][y].link_head() and self._maze[x][y].link_tail():\n",
    "                    return True\n",
    "                else:\n",
    "                    return self.expand((x+1,y+1)) \n",
    "            else:\n",
    "                pass\n",
    "        return False"
   ]
  },
  {
   "cell_type": "code",
   "execution_count": 2,
   "metadata": {},
   "outputs": [
    {
     "name": "stdout",
     "output_type": "stream",
     "text": [
      "0\n",
      "1\n",
      "1\n",
      "0\n",
      "1\n",
      "1\n",
      "0\n",
      "0\n",
      "0\n",
      "0 1\n"
     ]
    },
    {
     "ename": "NameError",
     "evalue": "name 'scale' is not defined",
     "output_type": "error",
     "traceback": [
      "\u001b[1;31m---------------------------------------------------------------------------\u001b[0m",
      "\u001b[1;31mNameError\u001b[0m                                 Traceback (most recent call last)",
      "\u001b[1;32m<ipython-input-2-6ae48018a0e4>\u001b[0m in \u001b[0;36m<module>\u001b[1;34m()\u001b[0m\n\u001b[0;32m      9\u001b[0m \u001b[0mtest\u001b[0m\u001b[1;33m.\u001b[0m\u001b[0mset_end\u001b[0m\u001b[1;33m(\u001b[0m\u001b[1;33m(\u001b[0m\u001b[1;36m3\u001b[0m\u001b[1;33m,\u001b[0m\u001b[1;36m3\u001b[0m\u001b[1;33m)\u001b[0m\u001b[1;33m)\u001b[0m\u001b[1;33m\u001b[0m\u001b[0m\n\u001b[0;32m     10\u001b[0m \u001b[1;33m\u001b[0m\u001b[0m\n\u001b[1;32m---> 11\u001b[1;33m \u001b[0mtest\u001b[0m\u001b[1;33m.\u001b[0m\u001b[0mexpand\u001b[0m\u001b[1;33m(\u001b[0m\u001b[1;33m(\u001b[0m\u001b[1;36m1\u001b[0m\u001b[1;33m,\u001b[0m\u001b[1;36m1\u001b[0m\u001b[1;33m)\u001b[0m\u001b[1;33m)\u001b[0m\u001b[1;33m\u001b[0m\u001b[0m\n\u001b[0m",
      "\u001b[1;32m<ipython-input-1-5210fe487c66>\u001b[0m in \u001b[0;36mexpand\u001b[1;34m(self, cur)\u001b[0m\n\u001b[0;32m     54\u001b[0m             \u001b[0mx\u001b[0m\u001b[1;33m,\u001b[0m\u001b[0my\u001b[0m \u001b[1;33m=\u001b[0m \u001b[0mcur\u001b[0m\u001b[1;33m[\u001b[0m\u001b[1;36m0\u001b[0m\u001b[1;33m]\u001b[0m\u001b[1;33m+\u001b[0m\u001b[0mi\u001b[0m\u001b[1;33m[\u001b[0m\u001b[1;36m0\u001b[0m\u001b[1;33m]\u001b[0m\u001b[1;33m,\u001b[0m\u001b[0mcur\u001b[0m\u001b[1;33m[\u001b[0m\u001b[1;36m1\u001b[0m\u001b[1;33m]\u001b[0m\u001b[1;33m+\u001b[0m\u001b[0mi\u001b[0m\u001b[1;33m[\u001b[0m\u001b[1;36m1\u001b[0m\u001b[1;33m]\u001b[0m\u001b[1;33m\u001b[0m\u001b[0m\n\u001b[0;32m     55\u001b[0m             \u001b[0mprint\u001b[0m\u001b[1;33m(\u001b[0m\u001b[0mx\u001b[0m\u001b[1;33m,\u001b[0m\u001b[0my\u001b[0m\u001b[1;33m)\u001b[0m\u001b[1;33m\u001b[0m\u001b[0m\n\u001b[1;32m---> 56\u001b[1;33m             \u001b[1;32mif\u001b[0m \u001b[0mx\u001b[0m \u001b[1;32min\u001b[0m \u001b[0mrange\u001b[0m\u001b[1;33m(\u001b[0m\u001b[1;36m0\u001b[0m\u001b[1;33m,\u001b[0m\u001b[0mscale\u001b[0m\u001b[1;33m[\u001b[0m\u001b[1;36m0\u001b[0m\u001b[1;33m]\u001b[0m\u001b[1;33m)\u001b[0m \u001b[1;32mand\u001b[0m \u001b[0my\u001b[0m \u001b[1;32min\u001b[0m \u001b[0mrange\u001b[0m\u001b[1;33m(\u001b[0m\u001b[1;36m0\u001b[0m\u001b[1;33m,\u001b[0m\u001b[0mscale\u001b[0m\u001b[1;33m[\u001b[0m\u001b[1;36m1\u001b[0m\u001b[1;33m]\u001b[0m\u001b[1;33m)\u001b[0m \u001b[1;32mand\u001b[0m \u001b[0mself\u001b[0m\u001b[1;33m.\u001b[0m\u001b[0m_maze\u001b[0m\u001b[1;33m[\u001b[0m\u001b[0mx\u001b[0m\u001b[1;33m]\u001b[0m\u001b[1;33m[\u001b[0m\u001b[0my\u001b[0m\u001b[1;33m]\u001b[0m\u001b[1;33m.\u001b[0m\u001b[0mis_open\u001b[0m\u001b[1;33m(\u001b[0m\u001b[1;33m)\u001b[0m\u001b[1;33m:\u001b[0m\u001b[1;33m\u001b[0m\u001b[0m\n\u001b[0m\u001b[0;32m     57\u001b[0m                 \u001b[1;32mif\u001b[0m \u001b[0mself\u001b[0m\u001b[1;33m.\u001b[0m\u001b[0m_maze\u001b[0m\u001b[1;33m[\u001b[0m\u001b[0mcur\u001b[0m\u001b[1;33m[\u001b[0m\u001b[1;36m0\u001b[0m\u001b[1;33m]\u001b[0m\u001b[1;33m]\u001b[0m\u001b[1;33m[\u001b[0m\u001b[0mcur\u001b[0m\u001b[1;33m[\u001b[0m\u001b[1;36m1\u001b[0m\u001b[1;33m]\u001b[0m\u001b[1;33m]\u001b[0m\u001b[1;33m.\u001b[0m\u001b[0mlink_head\u001b[0m\u001b[1;33m(\u001b[0m\u001b[1;33m)\u001b[0m\u001b[1;33m:\u001b[0m\u001b[1;33m\u001b[0m\u001b[0m\n\u001b[0;32m     58\u001b[0m                     \u001b[0mself\u001b[0m\u001b[1;33m.\u001b[0m\u001b[0m_maze\u001b[0m\u001b[1;33m[\u001b[0m\u001b[0mx\u001b[0m\u001b[1;33m]\u001b[0m\u001b[1;33m[\u001b[0m\u001b[0my\u001b[0m\u001b[1;33m]\u001b[0m\u001b[1;33m.\u001b[0m\u001b[0mlink_h\u001b[0m\u001b[1;33m(\u001b[0m\u001b[1;33m)\u001b[0m\u001b[1;33m\u001b[0m\u001b[0m\n",
      "\u001b[1;31mNameError\u001b[0m: name 'scale' is not defined"
     ]
    }
   ],
   "source": [
    "# Lets try our maze\n",
    "blocks = [(1,2),(1,3),(2,2),(2,3)]\n",
    "test = Maze((3,3),blocks)\n",
    "for i in range(3):\n",
    "    for j in range(3):\n",
    "        print(test._maze[i][j]._open)\n",
    "\n",
    "test.set_start((1,1))\n",
    "test.set_end((3,3))\n",
    "\n",
    "test.expand((1,1))"
   ]
  }
 ],
 "metadata": {
  "kernelspec": {
   "display_name": "Python 3",
   "language": "python",
   "name": "python3"
  },
  "language_info": {
   "codemirror_mode": {
    "name": "ipython",
    "version": 3
   },
   "file_extension": ".py",
   "mimetype": "text/x-python",
   "name": "python",
   "nbconvert_exporter": "python",
   "pygments_lexer": "ipython3",
   "version": "3.6.2"
  }
 },
 "nbformat": 4,
 "nbformat_minor": 2
}
