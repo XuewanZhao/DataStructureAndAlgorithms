{
 "cells": [
  {
   "cell_type": "markdown",
   "metadata": {},
   "source": [
    "This is the practice for DSAA Char2: absolute data type and Python class.\n",
    "The aim is to create a class for human resource management in school."
   ]
  },
  {
   "cell_type": "code",
   "execution_count": 27,
   "metadata": {},
   "outputs": [],
   "source": [
    "import datetime\n",
    "from builtins import *\n",
    "# Create Special Exceptions\n",
    "class PeopleTypeError(TypeError):\n",
    "    pass\n",
    "\n",
    "class PeopleValueError(ValueError):\n",
    "    pass"
   ]
  },
  {
   "cell_type": "code",
   "execution_count": 28,
   "metadata": {},
   "outputs": [],
   "source": [
    "# Create a base class for people\n",
    "class Person:\n",
    "    # variable to denote the number of people\n",
    "    _num = 0\n",
    "    \n",
    "    def __init__(self,name,sex,birthday,ident):\n",
    "        if not (isinstance(name,str) and sex in ('F,M')):\n",
    "            raise PeopleValueError(name,sex)\n",
    "        \n",
    "        try:\n",
    "            birth = datetime.date(*birthday)\n",
    "        except:\n",
    "            raise PeopleValueError('wrong date:',birthday)\n",
    "            \n",
    "        self._name = name\n",
    "        self._sex = sex\n",
    "        self._birthday = birth\n",
    "        self._id = ident\n",
    "        Person._num += 1\n",
    "        \n",
    "    # define get functions\n",
    "    def id(self): return self._id\n",
    "    def name(self): return self._name\n",
    "    def sex(self): return self._sex\n",
    "    def birthday(self): return self._birthday\n",
    "    def age(self): return (datetime.date.today().year-self._birthday.year)\n",
    "    \n",
    "    def set_name(self, name):\n",
    "        if not isinstance(name,str):\n",
    "            raise PeopleValueErrorp;\n",
    "        self._name = name\n",
    "    \n",
    "    def __lt__(self,another):\n",
    "        if not isinstance(another,Person):\n",
    "            raise PeopleTypeError;\n",
    "        return self._id < another._id\n",
    "    \n",
    "\n",
    "    @classmethod\n",
    "    def num(cls): return Person._num\n",
    "    \n",
    "    def __str__(self):\n",
    "        return ' '.join((self._id,self._name,self._sex,str(self._birthday)))\n",
    "    \n",
    "    def details(self):\n",
    "        return ','.join(('id:'+self._id,'name:'+self._name,'sex:'+self._sex,'birthday:'+str(self._birthday)))\n",
    "    "
   ]
  },
  {
   "cell_type": "code",
   "execution_count": 29,
   "metadata": {
    "scrolled": true
   },
   "outputs": [
    {
     "name": "stdout",
     "output_type": "stream",
     "text": [
      "00001 Mei F 1999-03-28\n",
      "id:00001,name:Mei,sex:F,birthday:1999-03-28\n",
      "00002 JIX F 1999-12-24\n",
      "00001 Mei F 1999-03-28\n",
      "00001 Mei F 1999-03-28\n",
      "00002 JIX F 1999-12-24\n"
     ]
    }
   ],
   "source": [
    "# lets see if this class works\n",
    "p1 = Person('Mei','F',(1999,3,28),'00001')\n",
    "p2 = Person('JIX','F',(1999,12,24),'00002')\n",
    "print(p1)\n",
    "print(p1.details())\n",
    "plist = [p2,p1]\n",
    "\n",
    "for p in plist:\n",
    "    print(p)\n",
    "plist.sort()\n",
    "for p in plist:\n",
    "    print(p)"
   ]
  },
  {
   "cell_type": "code",
   "execution_count": 30,
   "metadata": {},
   "outputs": [],
   "source": [
    "# we define the class for students\n",
    "class Student(Person):\n",
    "    _id_num = 0\n",
    "    \n",
    "    @classmethod\n",
    "    def _id_gen(cls):\n",
    "        cls._id_num += 1\n",
    "        year = datetime.date.today().year\n",
    "        return '1{:04}{:05}'.format(yearm,cls._id_num)\n",
    "    \n",
    "    def __init__(self,name,sex,birthday,department):\n",
    "        Person.__init__(self,name,sex,birthday,Student._id_gen())\n",
    "        self._department = department\n",
    "        self._enroll_date = datetime.date.today()\n",
    "        self._courses = {}\n",
    "        \n",
    "    def set_course(self,course_name):\n",
    "        self._courses[course_name] = None\n",
    "        \n",
    "    def set_score(self,course_name,score):\n",
    "        if course_name not in self._courses:\n",
    "            raise PeopleValueError('This course is not selected:',course_name)\n",
    "        self._courses[course_name] = score\n",
    "        \n",
    "    def scores(self): return [(cname,self._courses[cname]) for cname in self._courses]\n",
    "    \n",
    "    def details(self):\n",
    "        return ','.join((Person.details(self),'enroll date'+str(self._enroll_date,\\\n",
    "                                'department'+self._department,'courses'+str(self.scores()))))\n"
   ]
  },
  {
   "cell_type": "code",
   "execution_count": 31,
   "metadata": {},
   "outputs": [],
   "source": [
    "# we define the class for staffs\n",
    "class Staff(Person):\n",
    "    _id_num = 0\n",
    "    \n",
    "    @classmethod\n",
    "    def _id_gen(cls,birthday):\n",
    "        cls._id_num += 1\n",
    "        birth_year = datetime.date(*birthday).year\n",
    "        return '0{:04}{:05}'.format(birth_year,cls._id_num)\n",
    "    \n",
    "    def __init__(self,name,sex,birthday,entry_date=None):\n",
    "        super().__init__(name,sex,birthday,Staff._id_gen(birthday))\n",
    "        if entry_date:\n",
    "            try:\n",
    "                self._entry_date = datetime.date(*entry_date)\n",
    "            except:\n",
    "                raise PersonValueError('Wrong date:',entry_date)\n",
    "        else:\n",
    "            self._entry_date = datetime.date.today()\n",
    "        self._salary = 1000\n",
    "        self._department = 'TBD'\n",
    "        self._position = 'TBD'\n",
    "        \n",
    "    def set_department(self,department):\n",
    "        self._department = department\n",
    "    \n",
    "    def set_salary(self,salary):\n",
    "        if not type(salary) is int:\n",
    "            raise TypeError\n",
    "        self._salary = salary\n",
    "        \n",
    "    def set_position(self,position):\n",
    "        self._position = position\n",
    "    \n",
    "    def details(self):\n",
    "        return ','.join((super().details(),'entry date:'+str(self._entry_date),\\\n",
    "                'department:'+self._department,'position:'+self._position,'salary'+str(self._salary)))\n"
   ]
  },
  {
   "cell_type": "code",
   "execution_count": 32,
   "metadata": {},
   "outputs": [
    {
     "name": "stdout",
     "output_type": "stream",
     "text": [
      "0199900001 Mei F 1999-03-28\n",
      "id:0199900001,name:Mei,sex:F,birthday:1999-03-28,entry date:2018-07-13,department:CS,position:Assist Prof,salary2000\n"
     ]
    }
   ],
   "source": [
    "# test staff class\n",
    "p1 = Staff('Mei','F',(1999,3,28))\n",
    "print(p1)\n",
    "p1.set_department('CS')\n",
    "p1.set_position('Assist Prof')\n",
    "p1.set_salary(2000)\n",
    "\n",
    "print(p1.details())"
   ]
  }
 ],
 "metadata": {
  "kernelspec": {
   "display_name": "Python 3",
   "language": "python",
   "name": "python3"
  },
  "language_info": {
   "codemirror_mode": {
    "name": "ipython",
    "version": 3
   },
   "file_extension": ".py",
   "mimetype": "text/x-python",
   "name": "python",
   "nbconvert_exporter": "python",
   "pygments_lexer": "ipython3",
   "version": "3.6.2"
  }
 },
 "nbformat": 4,
 "nbformat_minor": 2
}
